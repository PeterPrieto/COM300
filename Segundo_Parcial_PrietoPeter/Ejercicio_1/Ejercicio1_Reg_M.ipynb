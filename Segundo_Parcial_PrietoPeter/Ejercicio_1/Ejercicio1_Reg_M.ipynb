{
  "nbformat": 4,
  "nbformat_minor": 0,
  "metadata": {
    "colab": {
      "name": "Ejercicio1_Red_N.ipynb",
      "provenance": [],
      "collapsed_sections": []
    },
    "kernelspec": {
      "name": "python3",
      "display_name": "Python 3"
    },
    "language_info": {
      "name": "python"
    }
  },
  "cells": [
    {
      "cell_type": "code",
      "execution_count": null,
      "metadata": {
        "id": "5TiwKpK6dwMd"
      },
      "outputs": [],
      "source": [
        "import os\n",
        "import matplotlib.pyplot as plt\n",
        "import numpy as np\n",
        "import pandas as pd\n",
        "from matplotlib import pyplot\n",
        "from scipy import optimize"
      ]
    },
    {
      "cell_type": "code",
      "source": [
        "data1 = np.loadtxt(os.path.join('DATASET.csv'), delimiter=\",\")\n",
        "data1 = pd.DataFrame(data1,columns=['marca','modelo','tipo','puertas','transmicion','combustible','estado','precio'])\n",
        "data1"
      ],
      "metadata": {
        "colab": {
          "base_uri": "https://localhost:8080/",
          "height": 423
        },
        "id": "bcyrg2qEej_r",
        "outputId": "954afc56-4894-4de3-91ac-9831a450f90e"
      },
      "execution_count": null,
      "outputs": [
        {
          "output_type": "execute_result",
          "data": {
            "text/html": [
              "<div>\n",
              "<style scoped>\n",
              "    .dataframe tbody tr th:only-of-type {\n",
              "        vertical-align: middle;\n",
              "    }\n",
              "\n",
              "    .dataframe tbody tr th {\n",
              "        vertical-align: top;\n",
              "    }\n",
              "\n",
              "    .dataframe thead th {\n",
              "        text-align: right;\n",
              "    }\n",
              "</style>\n",
              "<table border=\"1\" class=\"dataframe\">\n",
              "  <thead>\n",
              "    <tr style=\"text-align: right;\">\n",
              "      <th></th>\n",
              "      <th>marca</th>\n",
              "      <th>modelo</th>\n",
              "      <th>tipo</th>\n",
              "      <th>puertas</th>\n",
              "      <th>transmicion</th>\n",
              "      <th>combustible</th>\n",
              "      <th>estado</th>\n",
              "      <th>precio</th>\n",
              "    </tr>\n",
              "  </thead>\n",
              "  <tbody>\n",
              "    <tr>\n",
              "      <th>0</th>\n",
              "      <td>5.0</td>\n",
              "      <td>2007.0</td>\n",
              "      <td>3.0</td>\n",
              "      <td>4.0</td>\n",
              "      <td>1.0</td>\n",
              "      <td>1.0</td>\n",
              "      <td>2.0</td>\n",
              "      <td>12000.0</td>\n",
              "    </tr>\n",
              "    <tr>\n",
              "      <th>1</th>\n",
              "      <td>4.0</td>\n",
              "      <td>2011.0</td>\n",
              "      <td>2.0</td>\n",
              "      <td>5.0</td>\n",
              "      <td>2.0</td>\n",
              "      <td>1.0</td>\n",
              "      <td>1.0</td>\n",
              "      <td>25000.0</td>\n",
              "    </tr>\n",
              "    <tr>\n",
              "      <th>2</th>\n",
              "      <td>8.0</td>\n",
              "      <td>2010.0</td>\n",
              "      <td>1.0</td>\n",
              "      <td>5.0</td>\n",
              "      <td>2.0</td>\n",
              "      <td>1.0</td>\n",
              "      <td>2.0</td>\n",
              "      <td>24800.0</td>\n",
              "    </tr>\n",
              "    <tr>\n",
              "      <th>3</th>\n",
              "      <td>19.0</td>\n",
              "      <td>2013.0</td>\n",
              "      <td>3.0</td>\n",
              "      <td>5.0</td>\n",
              "      <td>2.0</td>\n",
              "      <td>1.0</td>\n",
              "      <td>2.0</td>\n",
              "      <td>10200.0</td>\n",
              "    </tr>\n",
              "    <tr>\n",
              "      <th>4</th>\n",
              "      <td>2.0</td>\n",
              "      <td>2010.0</td>\n",
              "      <td>3.0</td>\n",
              "      <td>5.0</td>\n",
              "      <td>2.0</td>\n",
              "      <td>1.0</td>\n",
              "      <td>2.0</td>\n",
              "      <td>16900.0</td>\n",
              "    </tr>\n",
              "    <tr>\n",
              "      <th>...</th>\n",
              "      <td>...</td>\n",
              "      <td>...</td>\n",
              "      <td>...</td>\n",
              "      <td>...</td>\n",
              "      <td>...</td>\n",
              "      <td>...</td>\n",
              "      <td>...</td>\n",
              "      <td>...</td>\n",
              "    </tr>\n",
              "    <tr>\n",
              "      <th>1112</th>\n",
              "      <td>2.0</td>\n",
              "      <td>2010.0</td>\n",
              "      <td>2.0</td>\n",
              "      <td>5.0</td>\n",
              "      <td>2.0</td>\n",
              "      <td>1.0</td>\n",
              "      <td>2.0</td>\n",
              "      <td>31000.0</td>\n",
              "    </tr>\n",
              "    <tr>\n",
              "      <th>1113</th>\n",
              "      <td>2.0</td>\n",
              "      <td>2021.0</td>\n",
              "      <td>3.0</td>\n",
              "      <td>4.0</td>\n",
              "      <td>2.0</td>\n",
              "      <td>2.0</td>\n",
              "      <td>2.0</td>\n",
              "      <td>41000.0</td>\n",
              "    </tr>\n",
              "    <tr>\n",
              "      <th>1114</th>\n",
              "      <td>2.0</td>\n",
              "      <td>2008.0</td>\n",
              "      <td>3.0</td>\n",
              "      <td>4.0</td>\n",
              "      <td>2.0</td>\n",
              "      <td>1.0</td>\n",
              "      <td>2.0</td>\n",
              "      <td>12000.0</td>\n",
              "    </tr>\n",
              "    <tr>\n",
              "      <th>1115</th>\n",
              "      <td>10.0</td>\n",
              "      <td>2017.0</td>\n",
              "      <td>2.0</td>\n",
              "      <td>4.0</td>\n",
              "      <td>2.0</td>\n",
              "      <td>1.0</td>\n",
              "      <td>2.0</td>\n",
              "      <td>23000.0</td>\n",
              "    </tr>\n",
              "    <tr>\n",
              "      <th>1116</th>\n",
              "      <td>19.0</td>\n",
              "      <td>2018.0</td>\n",
              "      <td>3.0</td>\n",
              "      <td>4.0</td>\n",
              "      <td>1.0</td>\n",
              "      <td>2.0</td>\n",
              "      <td>2.0</td>\n",
              "      <td>36800.0</td>\n",
              "    </tr>\n",
              "  </tbody>\n",
              "</table>\n",
              "<p>1117 rows × 8 columns</p>\n",
              "</div>"
            ],
            "text/plain": [
              "      marca  modelo  tipo  puertas  transmicion  combustible  estado   precio\n",
              "0       5.0  2007.0   3.0      4.0          1.0          1.0     2.0  12000.0\n",
              "1       4.0  2011.0   2.0      5.0          2.0          1.0     1.0  25000.0\n",
              "2       8.0  2010.0   1.0      5.0          2.0          1.0     2.0  24800.0\n",
              "3      19.0  2013.0   3.0      5.0          2.0          1.0     2.0  10200.0\n",
              "4       2.0  2010.0   3.0      5.0          2.0          1.0     2.0  16900.0\n",
              "...     ...     ...   ...      ...          ...          ...     ...      ...\n",
              "1112    2.0  2010.0   2.0      5.0          2.0          1.0     2.0  31000.0\n",
              "1113    2.0  2021.0   3.0      4.0          2.0          2.0     2.0  41000.0\n",
              "1114    2.0  2008.0   3.0      4.0          2.0          1.0     2.0  12000.0\n",
              "1115   10.0  2017.0   2.0      4.0          2.0          1.0     2.0  23000.0\n",
              "1116   19.0  2018.0   3.0      4.0          1.0          2.0     2.0  36800.0\n",
              "\n",
              "[1117 rows x 8 columns]"
            ]
          },
          "metadata": {},
          "execution_count": 2
        }
      ]
    },
    {
      "cell_type": "code",
      "source": [
        "data1 = data1.to_numpy()"
      ],
      "metadata": {
        "id": "FvEgFer_Gs-J"
      },
      "execution_count": null,
      "outputs": []
    },
    {
      "cell_type": "code",
      "source": [
        "def  featureNormalize(x):\n",
        "    x_norm = x.copy()\n",
        "    mu = np.zeros(x.shape[1])\n",
        "    sigma = np.zeros(x.shape[1])\n",
        "\n",
        "    mu = np.mean(x, axis = 0)\n",
        "    sigma = np.std(x, axis = 0)\n",
        "    x_norm = (x - mu) / sigma\n",
        "    \n",
        "    return x_norm"
      ],
      "metadata": {
        "id": "ln1_Wy74BzVT"
      },
      "execution_count": null,
      "outputs": []
    },
    {
      "cell_type": "code",
      "source": [
        "x_original =data1[:1116,:7]\n",
        "print(x_original[0])\n",
        "array_norm = featureNormalize(data1[:1116,:])\n",
        "y=array_norm[:,7]\n",
        "x = featureNormalize(x_original)\n",
        "x_original = np.c_[np.ones(len(x)), x_original]\n",
        "x = np.c_[np.ones(len(x)), x]\n",
        "print(x[0])\n",
        "print(y)"
      ],
      "metadata": {
        "colab": {
          "base_uri": "https://localhost:8080/"
        },
        "id": "iCQPNbrYB68C",
        "outputId": "9a55b0cf-19be-4be2-e735-e3e22eaf2a3b"
      },
      "execution_count": null,
      "outputs": [
        {
          "output_type": "stream",
          "name": "stdout",
          "text": [
            "[5.000e+00 2.007e+03 3.000e+00 4.000e+00 1.000e+00 1.000e+00 2.000e+00]\n",
            "[ 1.         -0.88803396 -0.05667979  1.31263702 -0.35180597 -0.88312191\n",
            " -0.25009644  0.41059273]\n",
            "[-0.07325104 -0.03482719 -0.03541832 ...  0.01246372 -0.07325104\n",
            " -0.04073855]\n"
          ]
        }
      ]
    },
    {
      "cell_type": "code",
      "source": [
        "def computeCostMulti(x, y, theta):\n",
        "    # Inicializa algunos valores utiles\n",
        "    m = y.shape[0] # numero de ejemplos de entrenamiento\n",
        "    J = 0\n",
        "    h = np.dot(x, theta)\n",
        "    J = (1/(2 * m)) * np.sum(np.power((h - y),2))    \n",
        "    return J"
      ],
      "metadata": {
        "id": "JhJo4wGDwgrG"
      },
      "execution_count": null,
      "outputs": []
    },
    {
      "cell_type": "code",
      "source": [
        "def gradientDescentMulti(x, y, theta, alpha, num_iters):   \n",
        "    # Inicializa algunos valores \n",
        "    m = y.shape[0] # numero de ejemplos de entrenamiento\n",
        "    \n",
        "    # realiza una copia de theta, el cual será acutalizada por el descenso por el gradiente\n",
        "    theta = theta.copy()\n",
        "    \n",
        "    J_history = []\n",
        "    \n",
        "    for i in range(num_iters):\n",
        "        theta = theta - (alpha / m) * np.sum((np.dot(x, theta) - y).dot(x))\n",
        "        J_history.append(computeCostMulti(x, y, theta))\n",
        "    \n",
        "    return theta, J_history"
      ],
      "metadata": {
        "id": "SJrhnHhAwiHc"
      },
      "execution_count": null,
      "outputs": []
    },
    {
      "cell_type": "code",
      "source": [
        "# Elegir algun valor para alpha (probar varias alternativas)\n",
        "alpha = 0.0001\n",
        "num_iters = 10000\n",
        "\n",
        "# inicializa theta y ejecuta el descenso por el gradiente\n",
        "theta = np.zeros(8)\n",
        "theta, J_history = gradientDescentMulti(x, y, theta, alpha, num_iters)\n",
        "\n",
        "# Grafica la convergencia del costo\n",
        "pyplot.plot(np.arange(len(J_history)), J_history, lw=2)\n",
        "pyplot.xlabel('Numero de iteraciones')\n",
        "pyplot.ylabel('Costo J')\n",
        "\n",
        "# Muestra los resultados del descenso por el gradiente\n",
        "print('theta calculado por el descenso por el gradiente: {:s}'.format(str(theta)))"
      ],
      "metadata": {
        "colab": {
          "base_uri": "https://localhost:8080/",
          "height": 314
        },
        "id": "f-k2QyAAwkOO",
        "outputId": "97239218-8f25-4592-af34-c2afd132de38"
      },
      "execution_count": null,
      "outputs": [
        {
          "output_type": "stream",
          "name": "stdout",
          "text": [
            "theta calculado por el descenso por el gradiente: [-0.02369065 -0.02369065 -0.02369065 -0.02369065 -0.02369065 -0.02369065\n",
            " -0.02369065 -0.02369065]\n"
          ]
        },
        {
          "output_type": "display_data",
          "data": {
            "image/png": "[encoded data removed]",
            "text/plain": [
              "<Figure size 432x288 with 1 Axes>"
            ]
          },
          "metadata": {
            "needs_background": "light"
          }
        }
      ]
    },
    {
      "cell_type": "code",
      "source": [
        "J_history[-1]"
      ],
      "metadata": {
        "colab": {
          "base_uri": "https://localhost:8080/"
        },
        "id": "2h9iZkH-2OGt",
        "outputId": "ea3cbd12-fdf2-4710-cfd4-b4a57944a376"
      },
      "execution_count": null,
      "outputs": [
        {
          "output_type": "execute_result",
          "data": {
            "text/plain": [
              "0.49795457426398254"
            ]
          },
          "metadata": {},
          "execution_count": 9
        }
      ]
    },
    {
      "cell_type": "code",
      "source": [
        "def normalEqn(X, y):\n",
        "  \n",
        "    theta = np.zeros(X.shape[1])\n",
        "    \n",
        "    theta = np.dot(np.dot(np.linalg.inv(np.dot(X.T,X)),X.T),y)\n",
        "    \n",
        "    return theta"
      ],
      "metadata": {
        "id": "7YgaUF_fMGp1"
      },
      "execution_count": null,
      "outputs": []
    },
    {
      "cell_type": "code",
      "source": [
        "y_original = data1[:1116,7]\n",
        "thetaNormal = normalEqn(x_original,y_original)\n",
        "print(thetaNormal)"
      ],
      "metadata": {
        "colab": {
          "base_uri": "https://localhost:8080/"
        },
        "id": "i9e6ZgX5L3H5",
        "outputId": "71b6f0b6-194f-42e4-d418-5ac562a72d6c"
      },
      "execution_count": null,
      "outputs": [
        {
          "output_type": "stream",
          "name": "stdout",
          "text": [
            "[ 1.32314210e+05 -2.18554605e+03  8.48178719e+01  3.04968025e+03\n",
            " -3.66692447e+03 -3.28158274e+04 -1.70993369e+04 -8.85673425e+04]\n"
          ]
        }
      ]
    },
    {
      "cell_type": "code",
      "source": [
        "X_array = [1, 19.0,\t2018.0,\t3.0,\t4.0,\t1.0,\t2.0,\t2.0]\n",
        "price = np.dot(X_array, thetaNormal)\n",
        "print('El precio predecido para este auto (usando el descenso por el gradiente): ${:.0f}'.format(price))"
      ],
      "metadata": {
        "colab": {
          "base_uri": "https://localhost:8080/"
        },
        "id": "cH0yR3Mg7Les",
        "outputId": "5986e1be-080a-48b4-aa62-1973882497a7"
      },
      "execution_count": null,
      "outputs": [
        {
          "output_type": "stream",
          "name": "stdout",
          "text": [
            "El precio predecido para este auto (usando el descenso por el gradiente): $12283\n"
          ]
        }
      ]
    }
  ]
}